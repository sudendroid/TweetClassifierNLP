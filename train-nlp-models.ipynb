{
 "cells": [
  {
   "cell_type": "code",
   "execution_count": 1,
   "metadata": {},
   "outputs": [],
   "source": [
    "import pandas as pd\n",
    "import matplotlib.pyplot as plt\n",
    "import seaborn as sns\n",
    "from sklearn.pipeline import Pipeline\n",
    "from sklearn import metrics\n",
    "from sklearn.feature_extraction.text import CountVectorizer\n",
    "from sklearn.feature_extraction.text import TfidfTransformer"
   ]
  },
  {
   "cell_type": "code",
   "execution_count": 2,
   "metadata": {},
   "outputs": [],
   "source": [
    "train = pd.read_csv('dataset/train.csv')\n",
    "test = pd.read_csv('dataset/test.csv')\n",
    "combined = pd.read_csv('dataset/cleaned_combined.csv')"
   ]
  },
  {
   "cell_type": "code",
   "execution_count": 3,
   "metadata": {},
   "outputs": [],
   "source": [
    "def export_result(file_name, prediction):\n",
    "    submission = pd.DataFrame()\n",
    "    submission['id'] = test['id']\n",
    "    submission['target'] = prediction\n",
    "    submission.to_csv(file_name, index=False)\n",
    "    print('Exported')"
   ]
  },
  {
   "cell_type": "code",
   "execution_count": 4,
   "metadata": {},
   "outputs": [],
   "source": [
    "df = combined['text']\n",
    "x_train=combined[:train.shape[0]]\n",
    "x_test=combined[train.shape[0]:]\n",
    "y_train=train['target']"
   ]
  },
  {
   "cell_type": "code",
   "execution_count": 5,
   "metadata": {},
   "outputs": [],
   "source": [
    "from sklearn.model_selection import train_test_split\n",
    "x_train, x_valid, y_train, y_valid = train_test_split(x_train, y_train, test_size=0.2, random_state=42)"
   ]
  },
  {
   "cell_type": "code",
   "execution_count": 6,
   "metadata": {},
   "outputs": [
    {
     "name": "stdout",
     "output_type": "stream",
     "text": [
      "(6090, 7)\n",
      "(6090,)\n",
      "(1523, 7)\n",
      "(1523,)\n"
     ]
    }
   ],
   "source": [
    "print(x_train.shape)\n",
    "print(y_train.shape)\n",
    "print(x_valid.shape)\n",
    "print(y_valid.shape)"
   ]
  },
  {
   "cell_type": "code",
   "execution_count": 7,
   "metadata": {},
   "outputs": [],
   "source": [
    "def check_model_performance(classifier):\n",
    "    classifier = Pipeline([('vect', CountVectorizer()),\n",
    "                     ('tfidf', TfidfTransformer()),\n",
    "                     ('clf', classifier),\n",
    "                     ])\n",
    "    classifier.fit(x_train['text'], y_train)\n",
    "    predicted = classifier.predict(x_valid['text'])\n",
    "    print(metrics.confusion_matrix(y_valid,predicted))\n",
    "    print(metrics.classification_report(y_valid, predicted))\n",
    "    print(\"validation score\", metrics.accuracy_score(y_valid,predicted))\n",
    "    print(\"training score\", metrics.accuracy_score(y_train,classifier.predict(x_train['text'])))\n",
    "    return classifier"
   ]
  },
  {
   "cell_type": "code",
   "execution_count": 8,
   "metadata": {},
   "outputs": [
    {
     "name": "stdout",
     "output_type": "stream",
     "text": [
      "[[777  97]\n",
      " [228 421]]\n",
      "              precision    recall  f1-score   support\n",
      "\n",
      "           0       0.77      0.89      0.83       874\n",
      "           1       0.81      0.65      0.72       649\n",
      "\n",
      "   micro avg       0.79      0.79      0.79      1523\n",
      "   macro avg       0.79      0.77      0.77      1523\n",
      "weighted avg       0.79      0.79      0.78      1523\n",
      "\n",
      "validation score 0.7866053841103086\n",
      "training score 0.99688013136289\n"
     ]
    }
   ],
   "source": [
    "from sklearn.ensemble import RandomForestClassifier\n",
    "classifier=check_model_performance(RandomForestClassifier(n_estimators=100))"
   ]
  },
  {
   "cell_type": "code",
   "execution_count": 9,
   "metadata": {},
   "outputs": [
    {
     "name": "stdout",
     "output_type": "stream",
     "text": [
      "[[753 121]\n",
      " [189 460]]\n",
      "              precision    recall  f1-score   support\n",
      "\n",
      "           0       0.80      0.86      0.83       874\n",
      "           1       0.79      0.71      0.75       649\n",
      "\n",
      "   micro avg       0.80      0.80      0.80      1523\n",
      "   macro avg       0.80      0.79      0.79      1523\n",
      "weighted avg       0.80      0.80      0.79      1523\n",
      "\n",
      "validation score 0.7964543663821405\n",
      "training score 0.8885057471264368\n"
     ]
    }
   ],
   "source": [
    "from sklearn.linear_model import LogisticRegression\n",
    "classifier=check_model_performance(LogisticRegression(solver='lbfgs'))"
   ]
  },
  {
   "cell_type": "code",
   "execution_count": 10,
   "metadata": {},
   "outputs": [
    {
     "name": "stdout",
     "output_type": "stream",
     "text": [
      "[[761 113]\n",
      " [215 434]]\n",
      "              precision    recall  f1-score   support\n",
      "\n",
      "           0       0.78      0.87      0.82       874\n",
      "           1       0.79      0.67      0.73       649\n",
      "\n",
      "   micro avg       0.78      0.78      0.78      1523\n",
      "   macro avg       0.79      0.77      0.77      1523\n",
      "weighted avg       0.79      0.78      0.78      1523\n",
      "\n",
      "validation score 0.7846355876559422\n",
      "training score 0.8847290640394089\n"
     ]
    }
   ],
   "source": [
    "from sklearn.ensemble import GradientBoostingClassifier\n",
    "classifier=check_model_performance(GradientBoostingClassifier(n_estimators=500))"
   ]
  },
  {
   "cell_type": "code",
   "execution_count": 11,
   "metadata": {},
   "outputs": [
    {
     "name": "stdout",
     "output_type": "stream",
     "text": [
      "[[745 129]\n",
      " [225 424]]\n",
      "              precision    recall  f1-score   support\n",
      "\n",
      "           0       0.77      0.85      0.81       874\n",
      "           1       0.77      0.65      0.71       649\n",
      "\n",
      "   micro avg       0.77      0.77      0.77      1523\n",
      "   macro avg       0.77      0.75      0.76      1523\n",
      "weighted avg       0.77      0.77      0.76      1523\n",
      "\n",
      "validation score 0.767564018384767\n",
      "training score 0.8453201970443349\n"
     ]
    }
   ],
   "source": [
    "from sklearn.ensemble import BaggingClassifier\n",
    "from sklearn.neighbors import KNeighborsClassifier\n",
    "classifier=check_model_performance(BaggingClassifier(KNeighborsClassifier()))"
   ]
  },
  {
   "cell_type": "code",
   "execution_count": 12,
   "metadata": {},
   "outputs": [
    {
     "name": "stdout",
     "output_type": "stream",
     "text": [
      "[[785  89]\n",
      " [216 433]]\n",
      "              precision    recall  f1-score   support\n",
      "\n",
      "           0       0.78      0.90      0.84       874\n",
      "           1       0.83      0.67      0.74       649\n",
      "\n",
      "   micro avg       0.80      0.80      0.80      1523\n",
      "   macro avg       0.81      0.78      0.79      1523\n",
      "weighted avg       0.80      0.80      0.80      1523\n",
      "\n",
      "validation score 0.7997373604727511\n",
      "training score 0.89376026272578\n"
     ]
    }
   ],
   "source": [
    "from sklearn.naive_bayes import MultinomialNB\n",
    "classifier=check_model_performance(MultinomialNB())"
   ]
  },
  {
   "cell_type": "code",
   "execution_count": 13,
   "metadata": {},
   "outputs": [
    {
     "name": "stdout",
     "output_type": "stream",
     "text": [
      "[[721 153]\n",
      " [191 458]]\n",
      "              precision    recall  f1-score   support\n",
      "\n",
      "           0       0.79      0.82      0.81       874\n",
      "           1       0.75      0.71      0.73       649\n",
      "\n",
      "   micro avg       0.77      0.77      0.77      1523\n",
      "   macro avg       0.77      0.77      0.77      1523\n",
      "weighted avg       0.77      0.77      0.77      1523\n",
      "\n",
      "validation score 0.7741300065659882\n",
      "training score 0.9824302134646963\n"
     ]
    }
   ],
   "source": [
    "from sklearn.svm import LinearSVC\n",
    "classifier=check_model_performance(LinearSVC())"
   ]
  },
  {
   "cell_type": "code",
   "execution_count": 14,
   "metadata": {},
   "outputs": [
    {
     "name": "stdout",
     "output_type": "stream",
     "text": [
      "[[773 101]\n",
      " [205 444]]\n",
      "              precision    recall  f1-score   support\n",
      "\n",
      "           0       0.79      0.88      0.83       874\n",
      "           1       0.81      0.68      0.74       649\n",
      "\n",
      "   micro avg       0.80      0.80      0.80      1523\n",
      "   macro avg       0.80      0.78      0.79      1523\n",
      "weighted avg       0.80      0.80      0.80      1523\n",
      "\n",
      "validation score 0.799080761654629\n",
      "training score 0.9735632183908046\n",
      "Exported\n"
     ]
    }
   ],
   "source": [
    "from sklearn.svm import SVC\n",
    "classifier = check_model_performance(SVC(gamma='scale'))\n",
    "export_result('submission_svm', classifier.predict(x_test['text']))"
   ]
  },
  {
   "cell_type": "code",
   "execution_count": 15,
   "metadata": {},
   "outputs": [
    {
     "name": "stdout",
     "output_type": "stream",
     "text": [
      "[[643 231]\n",
      " [212 437]]\n",
      "              precision    recall  f1-score   support\n",
      "\n",
      "           0       0.75      0.74      0.74       874\n",
      "           1       0.65      0.67      0.66       649\n",
      "\n",
      "   micro avg       0.71      0.71      0.71      1523\n",
      "   macro avg       0.70      0.70      0.70      1523\n",
      "weighted avg       0.71      0.71      0.71      1523\n",
      "\n",
      "validation score 0.7091267235718975\n",
      "training score 0.99688013136289\n"
     ]
    }
   ],
   "source": [
    "from sklearn import tree\n",
    "classifier=check_model_performance(tree.DecisionTreeClassifier())"
   ]
  },
  {
   "cell_type": "code",
   "execution_count": 16,
   "metadata": {},
   "outputs": [
    {
     "name": "stdout",
     "output_type": "stream",
     "text": [
      "[[816  58]\n",
      " [324 325]]\n",
      "              precision    recall  f1-score   support\n",
      "\n",
      "           0       0.72      0.93      0.81       874\n",
      "           1       0.85      0.50      0.63       649\n",
      "\n",
      "   micro avg       0.75      0.75      0.75      1523\n",
      "   macro avg       0.78      0.72      0.72      1523\n",
      "weighted avg       0.77      0.75      0.73      1523\n",
      "\n",
      "validation score 0.7491792514773473\n",
      "training score 0.7779967159277504\n"
     ]
    }
   ],
   "source": [
    "import xgboost as xgb\n",
    "classifier=check_model_performance(xgb.XGBClassifier())"
   ]
  },
  {
   "cell_type": "code",
   "execution_count": null,
   "metadata": {},
   "outputs": [],
   "source": []
  }
 ],
 "metadata": {
  "kernelspec": {
   "display_name": "Python 3",
   "language": "python",
   "name": "python3"
  },
  "language_info": {
   "codemirror_mode": {
    "name": "ipython",
    "version": 3
   },
   "file_extension": ".py",
   "mimetype": "text/x-python",
   "name": "python",
   "nbconvert_exporter": "python",
   "pygments_lexer": "ipython3",
   "version": "3.7.3"
  }
 },
 "nbformat": 4,
 "nbformat_minor": 2
}
